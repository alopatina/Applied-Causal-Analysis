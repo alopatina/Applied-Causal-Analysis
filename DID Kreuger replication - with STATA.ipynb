{
 "cells": [
  {
   "cell_type": "markdown",
   "metadata": {},
   "source": [
    "### Background\n",
    "\n",
    "The data set for this exercise comes from the paper by David Card and Alan Krueger\n",
    "“Minimum Wages and Employment: A Case-Study of the Fast-Food Industry in New\n",
    "Jersey and Pennsylvania”, published in the American Economic Review, September\n",
    "1994, vol. 84. This can be downloaded from JSTOR using\n",
    "http://links.jstor.org/sici?sici=0002-8282%28199409%2984%3A4%3C772%3AMWAEAC%3E2.0.CO%3B2-O"
   ]
  },
  {
   "cell_type": "code",
   "execution_count": 1,
   "metadata": {},
   "outputs": [],
   "source": [
    "import pandas as pd\n",
    "import ipystata\n",
    "import matplotlib"
   ]
  },
  {
   "cell_type": "code",
   "execution_count": 5,
   "metadata": {},
   "outputs": [
    {
     "name": "stdout",
     "output_type": "stream",
     "text": [
      "C:\\Users\\aslop\\STATA\n",
      "\n"
     ]
    }
   ],
   "source": [
    "%%stata\n",
    "cd \"C:\\Users\\aslop\\STATA\""
   ]
  },
  {
   "cell_type": "code",
   "execution_count": 6,
   "metadata": {},
   "outputs": [],
   "source": [
    "%%stata\n",
    "use \"C:\\Users\\aslop\\STATA\\DinD_ex.dta\", clear"
   ]
  },
  {
   "cell_type": "markdown",
   "metadata": {},
   "source": [
    "### QUESTION 1: Use mean differences to compute the difference in means estimate of the change in minimum wage."
   ]
  },
  {
   "cell_type": "code",
   "execution_count": 7,
   "metadata": {},
   "outputs": [
    {
     "name": "stdout",
     "output_type": "stream",
     "text": [
      "\n",
      "Variable   Obs Unique       Mean    Min  Max  Label\n",
      "--------------------------------------------------------------------------\n",
      "sheet      698    349   245.9456      1  522  sheet number (unique stor...\n",
      "fte        698    106   17.78403      3   80  \n",
      "nj         698      2   .8137536      0    1  \n",
      "after      698      2         .5      0    1  \n",
      "njafter    698      2   .4068768      0    1  \n",
      "dfte       349    101  -.1511461  -43.5   26  \n",
      "--------------------------------------------------------------------------\n",
      "\n"
     ]
    }
   ],
   "source": [
    "%%stata\n",
    "codebook, compact"
   ]
  },
  {
   "cell_type": "code",
   "execution_count": 8,
   "metadata": {},
   "outputs": [],
   "source": [
    "%%stata\n",
    "browse"
   ]
  },
  {
   "cell_type": "code",
   "execution_count": 77,
   "metadata": {},
   "outputs": [
    {
     "name": "stdout",
     "output_type": "stream",
     "text": [
      "\n",
      "(349 observations deleted)\n",
      "\n",
      "Two-sample t test with equal variances\n",
      "------------------------------------------------------------------------------\n",
      "   Group |     Obs        Mean    Std. Err.   Std. Dev.   [95% Conf. Interval]\n",
      "---------+--------------------------------------------------------------------\n",
      "       0 |      65        20.3     1.50888    12.16498    17.28567    23.31433\n",
      "       1 |     284    17.30106    .5267727    8.877331    16.26417    18.33795\n",
      "---------+--------------------------------------------------------------------\n",
      "combined |     349     17.8596    .5152968    9.626539    16.84611    18.87309\n",
      "---------+--------------------------------------------------------------------\n",
      "    diff |            2.998944    1.315724                .4111455    5.586742\n",
      "------------------------------------------------------------------------------\n",
      "    diff = mean(0) - mean(1)                                      t =   2.2793\n",
      "Ho: diff = 0                                     degrees of freedom =      347\n",
      "\n",
      "    Ha: diff < 0                 Ha: diff != 0                 Ha: diff > 0\n",
      " Pr(T < t) = 0.9884         Pr(|T| > |t|) = 0.0233          Pr(T > t) = 0.0116\n",
      "\n",
      "(349 observations deleted)\n",
      "\n",
      "Two-sample t test with equal variances\n",
      "------------------------------------------------------------------------------\n",
      "   Group |     Obs        Mean    Std. Err.   Std. Dev.   [95% Conf. Interval]\n",
      "---------+--------------------------------------------------------------------\n",
      "       0 |      65    18.25385    .9771041    7.877665    16.30186    20.20584\n",
      "       1 |     284    17.58363    .4991043    8.411055     16.6012    18.56605\n",
      "---------+--------------------------------------------------------------------\n",
      "combined |     349    17.70845    .4446853    8.307406    16.83384    18.58306\n",
      "---------+--------------------------------------------------------------------\n",
      "    diff |            .6702194    1.143332               -1.578513    2.918952\n",
      "------------------------------------------------------------------------------\n",
      "    diff = mean(0) - mean(1)                                      t =   0.5862\n",
      "Ho: diff = 0                                     degrees of freedom =      347\n",
      "\n",
      "    Ha: diff < 0                 Ha: diff != 0                 Ha: diff > 0\n",
      " Pr(T < t) = 0.7209         Pr(|T| > |t|) = 0.5581          Pr(T > t) = 0.2791\n",
      "\n",
      "                        -----------------------------------------------\n",
      "                                      before  after  Difference       \n",
      "                        -----------------------------------------------\n",
      "                         PA           20.30   18.25     2.05          \n",
      "                         NJ           17.30   17.58    -0.28          \n",
      "                         Difference   -3.00   -0.67    -2.33          \n",
      "                        -----------------------------------------------\n",
      "\n"
     ]
    }
   ],
   "source": [
    "%%stata\n",
    "\n",
    "mat T = J(3,6,.)\n",
    "\n",
    "use \"C:\\Users\\aslop\\STATA\\DinD_ex.dta\", clear\n",
    "drop if after == 1 \n",
    "\n",
    "ttest fte, by(nj)\n",
    "mat T[1,1] = r(mu_1)\n",
    "mat T[2,1] = r(mu_2)\n",
    "mat T[3,1] = r(mu_2) - r(mu_1)\n",
    "\n",
    "use \"C:\\Users\\aslop\\STATA\\DinD_ex.dta\", clear\n",
    "drop if after == 0 \n",
    "\n",
    "ttest fte, by(nj)\n",
    "mat T[1,2] = r(mu_1)\n",
    "mat T[2,2] = r(mu_2)\n",
    "mat T[3,2] = r(mu_2) - r(mu_1)\n",
    "\n",
    "\n",
    "mat T[1,3] = T[1,1] - T[1,2]\n",
    "mat T[2,3] = T[2,1] - T[2,2]\n",
    "mat T[3,3] = T[3,1] - T[3,2]\n",
    "\n",
    "\n",
    "mat rownames T = PA NJ Difference\n",
    "\n",
    "frmttable using ttest.doc, statmat(T) varlabels replace ctitle(\"\", before, after, Difference)"
   ]
  },
  {
   "cell_type": "markdown",
   "metadata": {},
   "source": [
    "### an alternative way"
   ]
  },
  {
   "cell_type": "code",
   "execution_count": 54,
   "metadata": {},
   "outputs": [
    {
     "name": "stdout",
     "output_type": "stream",
     "text": [
      "checking diff consistency and verifying not already installed...\n",
      "installing into c:\\ado\\plus\\...\n",
      "installation complete.\n",
      "\n"
     ]
    }
   ],
   "source": [
    "%%stata\n",
    "ssc install diff"
   ]
  },
  {
   "cell_type": "code",
   "execution_count": 60,
   "metadata": {},
   "outputs": [
    {
     "name": "stdout",
     "output_type": "stream",
     "text": [
      "\n",
      "DIFFERENCE-IN-DIFFERENCES ESTIMATION RESULTS\n",
      "Number of observations in the DIFF-IN-DIFF: 698\n",
      "            Before         After    \n",
      "   Control: 65             65          130\n",
      "   Treated: 284            284         568\n",
      "            349            349\n",
      "--------------------------------------------------------\n",
      " Outcome var.   | fte     | S. Err. |   |t|   |  P>|t|\n",
      "----------------+---------+---------+---------+---------\n",
      "Before          |         |         |         | \n",
      "   Control      | 20.300  |         |         | \n",
      "   Treated      | 17.301  |         |         | \n",
      "   Diff (T-C)   | -2.999  | 1.591   | -1.88   | 0.060*\n",
      "After           |         |         |         | \n",
      "   Control      | 18.254  |         |         | \n",
      "   Treated      | 17.584  |         |         | \n",
      "   Diff (T-C)   | -0.670  | 1.093   | 0.61    | 0.540\n",
      "                |         |         |         | \n",
      "Diff-in-Diff    | 2.329   | 1.931   | 1.21    | 0.228\n",
      "--------------------------------------------------------\n",
      "R-square:    0.01\n",
      "* Means and Standard Errors are estimated by linear regression\n",
      "**Robust Std. Errors\n",
      "**Inference: *** p<0.01; ** p<0.05; * p<0.1\n",
      "\n"
     ]
    }
   ],
   "source": [
    "%%stata\n",
    "use \"C:\\Users\\aslop\\STATA\\DinD_ex.dta\", clear\n",
    "ssc install diff\n",
    "diff fte, t(nj) p(after) robust  "
   ]
  },
  {
   "cell_type": "markdown",
   "metadata": {},
   "source": [
    "### Question 2: Estimate the difference-in-difference using a regression model in differences"
   ]
  },
  {
   "cell_type": "code",
   "execution_count": 86,
   "metadata": {},
   "outputs": [
    {
     "name": "stdout",
     "output_type": "stream",
     "text": [
      "\n",
      "note: nj omitted because of collinearity\n",
      "note: after omitted because of collinearity\n",
      "\n",
      "      Source |       SS           df       MS      Number of obs   =       349\n",
      "-------------+----------------------------------   F(1, 347)       =      3.91\n",
      "       Model |  286.841779         1  286.841779   Prob > F        =    0.0489\n",
      "    Residual |  25485.8728       347  73.4463192   R-squared       =    0.0111\n",
      "-------------+----------------------------------   Adj R-squared   =    0.0083\n",
      "       Total |  25772.7145       348  74.0595245   Root MSE        =    8.5701\n",
      "\n",
      "------------------------------------------------------------------------------\n",
      "        dfte |      Coef.   Std. Err.      t    P>|t|     [95% Conf. Interval]\n",
      "-------------+----------------------------------------------------------------\n",
      "     njafter |   2.328724   1.178371     1.98   0.049     .0110768    4.646372\n",
      "          nj |          0  (omitted)\n",
      "       after |          0  (omitted)\n",
      "       _cons |  -2.046154   1.062988    -1.92   0.055    -4.136864    .0445564\n",
      "------------------------------------------------------------------------------\n",
      "\n"
     ]
    }
   ],
   "source": [
    "%%stata\n",
    "use \"C:\\Users\\aslop\\STATA\\DinD_ex.dta\", clear\n",
    "reg dfte njafter nj after"
   ]
  },
  {
   "cell_type": "code",
   "execution_count": 87,
   "metadata": {},
   "outputs": [
    {
     "name": "stdout",
     "output_type": "stream",
     "text": [
      "\n",
      "note: nj omitted because of collinearity\n",
      "note: after omitted because of collinearity\n",
      "\n",
      "Linear regression                               Number of obs     =        349\n",
      "                                                F(1, 347)         =       2.51\n",
      "                                                Prob > F          =     0.1142\n",
      "                                                R-squared         =     0.0111\n",
      "                                                Root MSE          =     8.5701\n",
      "\n",
      "------------------------------------------------------------------------------\n",
      "             |               Robust\n",
      "        dfte |      Coef.   Std. Err.      t    P>|t|     [95% Conf. Interval]\n",
      "-------------+----------------------------------------------------------------\n",
      "     njafter |   2.328724   1.470425     1.58   0.114    -.5633425    5.220791\n",
      "          nj |          0  (omitted)\n",
      "       after |          0  (omitted)\n",
      "       _cons |  -2.046154   1.395098    -1.47   0.143    -4.790066    .6977583\n",
      "------------------------------------------------------------------------------\n",
      "\n"
     ]
    }
   ],
   "source": [
    "%%stata\n",
    "use \"C:\\Users\\aslop\\STATA\\DinD_ex.dta\", clear\n",
    "reg dfte njafter nj after, robust"
   ]
  },
  {
   "cell_type": "markdown",
   "metadata": {},
   "source": [
    "### QUESTION 3: Now estimate the following model in levels, i.e., with the left-hand-side variable in levels."
   ]
  },
  {
   "cell_type": "code",
   "execution_count": 89,
   "metadata": {},
   "outputs": [
    {
     "name": "stdout",
     "output_type": "stream",
     "text": [
      "\n",
      "      Source |       SS           df       MS      Number of obs   =       698\n",
      "-------------+----------------------------------   F(3, 694)       =      2.09\n",
      "       Model |  503.456802         3  167.818934   Prob > F        =    0.1004\n",
      "    Residual |  55766.2976       694  80.3548957   R-squared       =    0.0089\n",
      "-------------+----------------------------------   Adj R-squared   =    0.0047\n",
      "       Total |  56269.7544       697  80.7313549   Root MSE        =    8.9641\n",
      "\n",
      "------------------------------------------------------------------------------\n",
      "         fte |      Coef.   Std. Err.      t    P>|t|     [95% Conf. Interval]\n",
      "-------------+----------------------------------------------------------------\n",
      "     njafter |   2.328724   1.743083     1.34   0.182    -1.093624    5.751072\n",
      "          nj |  -2.998944   1.232546    -2.43   0.015    -5.418909   -.5789781\n",
      "       after |  -2.046154   1.572405    -1.30   0.194    -5.133396    1.041088\n",
      "       _cons |       20.3   1.111858    18.26   0.000     18.11699    22.48301\n",
      "------------------------------------------------------------------------------\n",
      "\n"
     ]
    }
   ],
   "source": [
    "%%stata\n",
    "use \"C:\\Users\\aslop\\STATA\\DinD_ex.dta\", clear\n",
    "reg fte njafter nj after"
   ]
  },
  {
   "cell_type": "code",
   "execution_count": 90,
   "metadata": {},
   "outputs": [
    {
     "name": "stdout",
     "output_type": "stream",
     "text": [
      "\n",
      "Linear regression                               Number of obs     =        698\n",
      "                                                F(3, 694)         =       1.32\n",
      "                                                Prob > F          =     0.2682\n",
      "                                                R-squared         =     0.0089\n",
      "                                                Root MSE          =     8.9641\n",
      "\n",
      "------------------------------------------------------------------------------\n",
      "             |               Robust\n",
      "         fte |      Coef.   Std. Err.      t    P>|t|     [95% Conf. Interval]\n",
      "-------------+----------------------------------------------------------------\n",
      "     njafter |   2.328724   1.930761     1.21   0.228     -1.46211    6.119558\n",
      "          nj |  -2.998944   1.591452    -1.88   0.060    -6.123581    .1256939\n",
      "       after |  -2.046154   1.788875    -1.14   0.253     -5.55841    1.466103\n",
      "       _cons |       20.3   1.501537    13.52   0.000      17.3519     23.2481\n",
      "------------------------------------------------------------------------------\n",
      "\n"
     ]
    }
   ],
   "source": [
    "%%stata\n",
    "use \"C:\\Users\\aslop\\STATA\\DinD_ex.dta\", clear\n",
    "reg fte njafter nj after, robust"
   ]
  },
  {
   "cell_type": "markdown",
   "metadata": {},
   "source": [
    "### QUESTION 4: Now estimate the levels model from question 3 but cluster on sheet. How do the standard errors change?"
   ]
  },
  {
   "cell_type": "code",
   "execution_count": 7,
   "metadata": {},
   "outputs": [
    {
     "name": "stdout",
     "output_type": "stream",
     "text": [
      "\n",
      "Linear regression                               Number of obs     =       \n",
      "                                                F(3, 348)         =       \n",
      "                                                Prob > F          =     0.\n",
      "                                                R-squared         =     0.\n",
      "                                                Root MSE          =     8.\n",
      "                                (Std. Err. adjusted for 349 clusters in sh\n",
      "--------------------------------------------------------------------------\n",
      "             |               Robust\n",
      "         fte |      Coef.   Std. Err.      t    P>|t|     [95% Conf. Inter\n",
      "-------------+------------------------------------------------------------\n",
      "     njafter |   2.328724   1.471481     1.58   0.114    -.5653903    5.22\n",
      "          nj |  -2.998944   1.592595    -1.88   0.061    -6.131266    .133\n",
      "       after |  -2.046154     1.3961    -1.47   0.144    -4.792009    .699\n",
      "       _cons |       20.3   1.502615    13.51   0.000     17.34465    23.2\n",
      "--------------------------------------------------------------------------\n",
      "\n"
     ]
    }
   ],
   "source": [
    "%%stata\n",
    "use \"C:\\Users\\aslop\\STATA\\DinD_ex.dta\", clear\n",
    "reg fte njafter nj after, cluster(sheet)"
   ]
  },
  {
   "cell_type": "code",
   "execution_count": 8,
   "metadata": {},
   "outputs": [
    {
     "name": "stdout",
     "output_type": "stream",
     "text": [
      "\n",
      "Linear regression                               Number of obs     =       \n",
      "                                                F(3, 348)         =       \n",
      "                                                Prob > F          =     0.\n",
      "                                                R-squared         =     0.\n",
      "                                                Root MSE          =     8.\n",
      "                                (Std. Err. adjusted for 349 clusters in sh\n",
      "--------------------------------------------------------------------------\n",
      "             |               Robust\n",
      "         fte |      Coef.   Std. Err.      t    P>|t|     [95% Conf. Inter\n",
      "-------------+------------------------------------------------------------\n",
      "     njafter |   2.328724   1.471481     1.58   0.114    -.5653903    5.22\n",
      "          nj |  -2.998944   1.592595    -1.88   0.061    -6.131266    .133\n",
      "       after |  -2.046154     1.3961    -1.47   0.144    -4.792009    .699\n",
      "       _cons |       20.3   1.502615    13.51   0.000     17.34465    23.2\n",
      "--------------------------------------------------------------------------\n",
      "\n"
     ]
    }
   ],
   "source": [
    "%%stata\n",
    "use \"C:\\Users\\aslop\\STATA\\DinD_ex.dta\", clear\n",
    "reg fte njafter nj after, cluster(sheet) robust"
   ]
  },
  {
   "cell_type": "markdown",
   "metadata": {},
   "source": [
    "### QUESTION 5: Now estimate the levels model using fixed effects (i.e. xtreg). Which variables get dropped and why?\n",
    "\n",
    "we need to create fixed-effects for each restaurant and for each year"
   ]
  },
  {
   "cell_type": "code",
   "execution_count": null,
   "metadata": {},
   "outputs": [],
   "source": [
    "%%stata\n",
    "tab "
   ]
  },
  {
   "cell_type": "code",
   "execution_count": 103,
   "metadata": {},
   "outputs": [
    {
     "name": "stdout",
     "output_type": "stream",
     "text": [
      "\n",
      "note: nj omitted because of collinearity\n",
      "\n",
      "Fixed-effects (within) regression               Number of obs     =        698\n",
      "Group variable: sheet                           Number of groups  =        349\n",
      "\n",
      "R-sq:                                           Obs per group:\n",
      "     within  = 0.0114                                         min =          2\n",
      "     between = 0.0082                                         avg =        2.0\n",
      "     overall = 0.0004                                         max =          2\n",
      "\n",
      "                                                F(2,347)          =       2.01\n",
      "corr(u_i, Xb)  = -0.1033                        Prob > F          =     0.1359\n",
      "\n",
      "------------------------------------------------------------------------------\n",
      "         fte |      Coef.   Std. Err.      t    P>|t|     [95% Conf. Interval]\n",
      "-------------+----------------------------------------------------------------\n",
      "          nj |          0  (omitted)\n",
      "     njafter |   2.328724   1.178371     1.98   0.049     .0110768    4.646372\n",
      "       after |  -2.046154   1.062988    -1.92   0.055    -4.136864    .0445564\n",
      "       _cons |    17.8596   .3243824    55.06   0.000      17.2216     18.4976\n",
      "-------------+----------------------------------------------------------------\n",
      "     sigma_u |  7.9487206\n",
      "     sigma_e |  6.0599637\n",
      "         rho |  .63242037   (fraction of variance due to u_i)\n",
      "------------------------------------------------------------------------------\n",
      "F test that all u_i=0: F(348, 347) = 3.40                    Prob > F = 0.0000\n",
      "\n"
     ]
    }
   ],
   "source": [
    "%%stata\n",
    "use \"C:\\Users\\aslop\\STATA\\DinD_ex.dta\", clear\n",
    "xtreg fte nj njafter after, fe i(sheet)"
   ]
  }
 ],
 "metadata": {
  "kernelspec": {
   "display_name": "Python 3",
   "language": "python",
   "name": "python3"
  },
  "language_info": {
   "codemirror_mode": {
    "name": "ipython",
    "version": 3
   },
   "file_extension": ".py",
   "mimetype": "text/x-python",
   "name": "python",
   "nbconvert_exporter": "python",
   "pygments_lexer": "ipython3",
   "version": "3.6.4"
  }
 },
 "nbformat": 4,
 "nbformat_minor": 2
}
